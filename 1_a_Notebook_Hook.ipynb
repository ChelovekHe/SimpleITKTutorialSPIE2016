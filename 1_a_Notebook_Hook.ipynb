{
 "cells": [
  {
   "cell_type": "markdown",
   "metadata": {},
   "source": [
    "# SimpleITK Notebook Teasers"
   ]
  },
  {
   "cell_type": "code",
   "execution_count": null,
   "metadata": {
    "collapsed": true
   },
   "outputs": [],
   "source": [
    "import matplotlib.pyplot as plt\n",
    "%matplotlib inline\n",
    "from ipywidgets import interact, FloatSlider\n",
    "\n",
    "import SimpleITK as sitk\n",
    "from myshow import myshow, myshow3d\n",
    "\n",
    "from downloaddata import fetch_data as fdata"
   ]
  },
  {
   "cell_type": "markdown",
   "metadata": {},
   "source": [
    "## 10 Lines of Code for Segmentation"
   ]
  },
  {
   "cell_type": "code",
   "execution_count": null,
   "metadata": {
    "collapsed": false
   },
   "outputs": [],
   "source": [
    "# Load Data\n",
    "img = sitk.ReadImage(fdata(\"cthead1.png\"))\n",
    "\n",
    "# Create a function with arguments we wish to experiment on and explore.\n",
    "def ws_callback(img, sigma, level, markWatershedLine, fullyConnected):\n",
    "    feature_img = sitk.GradientMagnitudeRecursiveGaussian(img, sigma=sigma)\n",
    "    ws_img = sitk.MorphologicalWatershed(feature_img, level, markWatershedLine, fullyConnected)\n",
    "    myshow(sitk.LabelToRGB(ws_img), \"Watershed Segmentation\")\n",
    "\n",
    "# Connect parameters to interactive widgets\n",
    "interact( lambda **kwargs: ws_callback(img, **kwargs),\n",
    "             sigma=FloatSlider(min=0.05, max=5.0, step=0.05, value=1.0),\n",
    "             markWatershedLine=True,\n",
    "             fullyConnected=False,\n",
    "             level=FloatSlider(min=0, max=255, step=0.1, value=4.0) )"
   ]
  },
  {
   "cell_type": "markdown",
   "metadata": {},
   "source": [
    "Next we will demonstate a minimal example for image registration. We start by loading and visualizing two image."
   ]
  },
  {
   "cell_type": "code",
   "execution_count": null,
   "metadata": {
    "collapsed": false
   },
   "outputs": [],
   "source": [
    "fixed_image =  sitk.ReadImage(fdata(\"RIRE/training_001_ct.mha\"), sitk.sitkFloat32)\n",
    "moving_image = sitk.ReadImage(fdata(\"RIRE/training_001_mr_T1.mha\"), sitk.sitkFloat32) \n",
    "\n",
    "moving_resampled_pre = sitk.Resample(moving_image, fixed_image, sitk.Euler3DTransform(), sitk.sitkLinear, 0.0, moving_image.GetPixelIDValue())\n",
    "myshow3d(0.5*fixed_image+0.5*moving_resampled_pre)"
   ]
  },
  {
   "cell_type": "markdown",
   "metadata": {},
   "source": [
    "## 12 lines of Code for Multi-modal Registration"
   ]
  },
  {
   "cell_type": "code",
   "execution_count": null,
   "metadata": {
    "collapsed": true
   },
   "outputs": [],
   "source": [
    "initial_transform = sitk.CenteredTransformInitializer(fixed_image, \n",
    "                                                      moving_image, \n",
    "                                                      sitk.Euler3DTransform(), \n",
    "                                                      sitk.CenteredTransformInitializerFilter.GEOMETRY)\n",
    "\n",
    "registration_method = sitk.ImageRegistrationMethod()\n",
    "registration_method.SetMetricAsMattesMutualInformation(numberOfHistogramBins=50)\n",
    "registration_method.SetMetricSamplingStrategy(registration_method.RANDOM)\n",
    "registration_method.SetMetricSamplingPercentage(0.01)\n",
    "registration_method.SetOptimizerAsGradientDescent(learningRate=1.0, numberOfIterations=100)\n",
    "registration_method.SetOptimizerScalesFromPhysicalShift() \n",
    "registration_method.SetInitialTransform(initial_transform, inPlace=False)\n",
    "final_transform = registration_method.Execute(fixed_image, moving_image)"
   ]
  },
  {
   "cell_type": "code",
   "execution_count": null,
   "metadata": {
    "collapsed": false
   },
   "outputs": [],
   "source": [
    "moving_resampled = sitk.Resample(moving_image, fixed_image, final_transform, sitk.sitkLinear, 0.0, moving_image.GetPixelIDValue())\n",
    "\n",
    "myshow3d(0.5*fixed_image+0.5*moving_resampled)"
   ]
  }
 ],
 "metadata": {
  "kernelspec": {
   "display_name": "Python 3",
   "language": "python",
   "name": "python3"
  },
  "language_info": {
   "codemirror_mode": {
    "name": "ipython",
    "version": 3
   },
   "file_extension": ".py",
   "mimetype": "text/x-python",
   "name": "python",
   "nbconvert_exporter": "python",
   "pygments_lexer": "ipython3",
   "version": "3.4.2"
  }
 },
 "nbformat": 4,
 "nbformat_minor": 0
}
