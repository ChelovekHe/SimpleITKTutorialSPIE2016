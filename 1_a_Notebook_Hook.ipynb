{
 "cells": [
  {
   "cell_type": "code",
   "execution_count": null,
   "metadata": {
    "collapsed": true
   },
   "outputs": [],
   "source": [
    "import matplotlib.pyplot as plt\n",
    "%matplotlib inline\n",
    "from ipywidgets import interact, FloatSlider\n",
    "\n",
    "import SimpleITK as sitk\n",
    "from myshow import myshow\n",
    "\n",
    "from downloaddata import fetch_data as fdata"
   ]
  },
  {
   "cell_type": "markdown",
   "metadata": {},
   "source": [
    "## 10 Lines of Code"
   ]
  },
  {
   "cell_type": "code",
   "execution_count": null,
   "metadata": {
    "collapsed": false
   },
   "outputs": [],
   "source": [
    "# Load Data\n",
    "img = sitk.ReadImage(fdata(\"cthead1.png\"))\n",
    "\n",
    "# Create a function with arguments we wish to experiment on and explore.\n",
    "def ws_callback(img, sigma, level, markWatershedLine, fullyConnected):\n",
    "    feature_img = sitk.GradientMagnitudeRecursiveGaussian(img, sigma=sigma)\n",
    "    ws_img = sitk.MorphologicalWatershed(feature_img, level, markWatershedLine, fullyConnected)\n",
    "    myshow(sitk.LabelToRGB(ws_img), \"Watershed Segmentation\")\n",
    "\n",
    "# Connect parameters to interactive widgets\n",
    "interact( lambda **kwargs: ws_callback(img, **kwargs),\n",
    "             sigma=FloatSlider(min=0.05, max=5.0, step=0.05, value=1.0),\n",
    "             markWatershedLine=True,\n",
    "             fullyConnected=False,\n",
    "             level=FloatSlider(min=0, max=255, step=0.1, value=4.0) )"
   ]
  }
 ],
 "metadata": {
  "kernelspec": {
   "display_name": "Python 3",
   "language": "python",
   "name": "python3"
  },
  "language_info": {
   "codemirror_mode": {
    "name": "ipython",
    "version": 3
   },
   "file_extension": ".py",
   "mimetype": "text/x-python",
   "name": "python",
   "nbconvert_exporter": "python",
   "pygments_lexer": "ipython3",
   "version": "3.4.2"
  }
 },
 "nbformat": 4,
 "nbformat_minor": 0
}
