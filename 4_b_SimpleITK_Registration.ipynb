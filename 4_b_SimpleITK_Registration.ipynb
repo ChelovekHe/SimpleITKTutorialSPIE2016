{
 "cells": [
  {
   "cell_type": "markdown",
   "metadata": {},
   "source": [
    "<h1 align=\"center\">Introduction to ITK Registration in SimpleITK Notebooks</h1>\n",
    "\n",
    "\n",
    "<img src=\"Data/ITKv4RegistrationComponentsDiagram.svg\" style=\"width:700px\"/><br><br>\n",
    "\n",
    "SimpleITK features:\n",
    "<ul>\n",
    "<li>\n",
    "Registraiton is either 2D/2D or 3D/3D.\n",
    "</li>\n",
    "<li>\n",
    "Pixel types are either sitkFloat32 or sitkFloat64 (use the SimpleITK <a href=\"http://www.itk.org/SimpleITKDoxygen/html/namespaceitk_1_1simple.html#af8c9d7cc96a299a05890e9c3db911885\">Cast()</a> function if your image's pixel type is something else).\n",
    "</li>\n",
    "</ul>\n",
    "\n",
    "There are many options for creating an instance of the registration framework, all of which are configured in SimpleITK via methods of the <a href=\"http://www.itk.org/SimpleITKDoxygen/html/classitk_1_1simple_1_1ImageRegistrationMethod.html\">ImageRegistrationMethod</a> class. This class encapsulates many of the components available in ITK for constructing a registration instance.\n",
    "\n",
    "## Registration Components \n",
    "\n",
    "Currently, the available choices from the following groups of ITK components are:\n",
    "\n",
    "### Optimizers\n",
    "\n",
    "The SimpleITK registration framework supports several optimizer types via the SetMetricAsX() methods, these include:\n",
    "\n",
    "<ul>\n",
    "  <li>\n",
    "  <a href=\"http://www.itk.org/Doxygen/html/classitk_1_1ExhaustiveOptimizerv4.html\">Exhaustive</a>\n",
    "  </li>\n",
    "  <li>\n",
    "  <a href=\"http://www.itk.org/Doxygen/html/classitk_1_1AmoebaOptimizerv4.html\">Nelder-Mead downhill simplex</a>, a.k.a. Amoeba.\n",
    "  </li>\n",
    "  <li>\n",
    "  Variations on gradient descent:\n",
    "  <ul>\n",
    "    <li>\n",
    "    <a href=\"http://www.itk.org/Doxygen/html/classitk_1_1GradientDescentOptimizerv4Template.html\">GradientDescent</a>\n",
    "    </li>\n",
    "    <li>\n",
    "    <a href=\"http://www.itk.org/Doxygen/html/classitk_1_1GradientDescentLineSearchOptimizerv4Template.html\">GradientDescentLineSearch</a>\n",
    "    </li>\n",
    "    <li>\n",
    "    <a href=\"http://www.itk.org/Doxygen/html/classitk_1_1RegularStepGradientDescentOptimizerv4.html\">RegularStepGradientDescent</a>\n",
    "    </li>\n",
    "  </ul>\n",
    "  </li>\n",
    "  <li>\n",
    "    <a href=\"http://www.itk.org/Doxygen/html/classitk_1_1ConjugateGradientLineSearchOptimizerv4Template.html\">ConjugateGradientLineSearch</a> \n",
    "  </li>\n",
    "  <li>\n",
    "  <a href=\"http://www.itk.org/Doxygen/html/classitk_1_1LBFGSBOptimizerv4.html\">L-BFGS-B</a> (Limited memory Broyden,  Fletcher,Goldfarb,Shannon-Bound Constrained) - supports the use of simple constraints ($l\\leq x \\leq u$)  \n",
    "  </li>\n",
    "</ul>\n",
    "\n",
    " \n",
    "### Similarity metrics\n",
    "\n",
    "The SimpleITK registration framework supports several metric types via the SetMetricAsX() methods, these include:\n",
    "\n",
    "<ul>\n",
    "  <li>\n",
    "  <a href=\"http://www.itk.org/Doxygen/html/classitk_1_1MeanSquaresImageToImageMetricv4.html\">MeanSquares</a>\n",
    "  </li>\n",
    "  <li>\n",
    "  <a href=\"http://www.itk.org/Doxygen/html/classitk_1_1DemonsImageToImageMetricv4.html\">Demons</a>\n",
    "  </li>\n",
    "  <li>\n",
    "  <a href=\"http://www.itk.org/Doxygen/html/classitk_1_1CorrelationImageToImageMetricv4.html\">Correlation</a>\n",
    "  </li>\n",
    "  <li>\n",
    "  <a href=\"http://www.itk.org/Doxygen/html/classitk_1_1ANTSNeighborhoodCorrelationImageToImageMetricv4.html\">ANTSNeighborhoodCorrelation</a>\n",
    "  </li>\n",
    "  <li>\n",
    "  <a href=\"http://www.itk.org/Doxygen/html/classitk_1_1JointHistogramMutualInformationImageToImageMetricv4.html\">JointHistogramMutualInformation</a>\n",
    "  </li>\n",
    "  <li>\n",
    "  <a href=\"http://www.itk.org/Doxygen/html/classitk_1_1MattesMutualInformationImageToImageMetricv4.html\">MattesMutualInformation</a>\n",
    "  </li>\n",
    "</ul>\n",
    "\n",
    "\n",
    "### Interpolators\n",
    "\n",
    "The SimpleITK registration framework supports several interpolators via the SetInterpolator() method, which receives one of\n",
    "the <a href=\"http://www.itk.org/SimpleITKDoxygen/html/namespaceitk_1_1simple.html#a7cb1ef8bd02c669c02ea2f9f5aa374e5\">following enumerations</a>:\n",
    "<ul>\n",
    "<li> sitkNearestNeighbor </li>\n",
    "<li> sitkLinear </li>\n",
    "<li> sitkBSpline </li>\n",
    "<li> sitkGaussian </li>\n",
    "<li> sitkHammingWindowedSinc </li>\n",
    "<li> sitkCosineWindowedSinc </li>\n",
    "<li> sitkWelchWindowedSinc </li>\n",
    "<li> sitkLanczosWindowedSinc </li>\n",
    "<li> sitkBlackmanWindowedSinc </li>\n",
    "</ul>"
   ]
  },
  {
   "cell_type": "code",
   "execution_count": null,
   "metadata": {
    "collapsed": false
   },
   "outputs": [],
   "source": [
    "import SimpleITK as sitk\n",
    "\n",
    "from __future__ import print_function\n",
    "\n",
    "# Utility method that either downloads data from the MIDAS repository or\n",
    "# if already downloaded returns the file name for reading from disk (cached data).\n",
    "from downloaddata import fetch_data as fdata\n",
    "\n",
    "# Always write output to a separate directory, we don't want to pollute the source directory. \n",
    "import os\n",
    "OUTPUT_DIR = 'Output'"
   ]
  },
  {
   "cell_type": "markdown",
   "metadata": {},
   "source": [
    "## Utility functions \n",
    "\n",
    "Callback functions for image display and for ploting the similarity metric during registration."
   ]
  },
  {
   "cell_type": "code",
   "execution_count": null,
   "metadata": {
    "collapsed": false
   },
   "outputs": [],
   "source": [
    "%matplotlib inline\n",
    "%run registration_utilities.py"
   ]
  },
  {
   "cell_type": "markdown",
   "metadata": {},
   "source": [
    "## Read images\n",
    "\n",
    "We first read the images, casting the pixel type to that required for registration (Float32 or Float64) and look at them."
   ]
  },
  {
   "cell_type": "code",
   "execution_count": null,
   "metadata": {
    "collapsed": false
   },
   "outputs": [],
   "source": [
    "fixed_image =  sitk.ReadImage(fdata(\"RIRE/training_001_ct.mha\"), sitk.sitkFloat32)\n",
    "moving_image = sitk.ReadImage(fdata(\"RIRE/training_001_mr_T1.mha\"), sitk.sitkFloat32) \n",
    "\n",
    "interact(lambda image1_z, image2_z, image1, image2,:display_scalar_images(image1_z, image2_z, image1, image2, \n",
    "                                                                          title1='fixed image',\n",
    "                                                                          title2 = 'moving image'),\n",
    "         image1_z=(0,fixed_image.GetSize()[2]-1), \n",
    "         image2_z=(0,moving_image.GetSize()[2]-1), \n",
    "         image1 = fixed(fixed_image), \n",
    "         image2=fixed(moving_image));"
   ]
  },
  {
   "cell_type": "markdown",
   "metadata": {},
   "source": [
    "## Initial Alignment\n",
    "\n",
    "Use the CenteredTransformInitializer to align the centers of the two volumes and set the center of rotation to the center of the fixed image."
   ]
  },
  {
   "cell_type": "code",
   "execution_count": null,
   "metadata": {
    "collapsed": false
   },
   "outputs": [],
   "source": [
    "initial_transform = sitk.CenteredTransformInitializer(fixed_image, \n",
    "                                                      moving_image, \n",
    "                                                      sitk.Euler3DTransform(), \n",
    "                                                      sitk.CenteredTransformInitializerFilter.GEOMETRY)\n",
    "\n",
    "display_registration_results(fixed_image, moving_image, initial_transform)\n",
    "print(initial_transform)"
   ]
  },
  {
   "cell_type": "markdown",
   "metadata": {},
   "source": [
    "## Registration - Understanding Your Input and Output\n",
    "\n",
    "The specific registration task at hand estimates a 3D rigid transformation between images of different modalities. There are multiple components from each group (optimizers, similarity metrics, interpolators) that are appropriate for the task. Note that each component selection requires setting some parameter values. We have made the following choices:\n",
    "\n",
    "<ul>\n",
    "<li>Similarity metric, mutual information (Mattes MI):\n",
    "<ul>\n",
    "  <li>Number of histogram bins, 50.</li>\n",
    "  <li>Sampling strategy, random.</li>\n",
    "  <li>Sampling percentage, 1%.</li>\n",
    "</ul>\n",
    "</li>\n",
    "<li>Interpolator, sitkLinear.</li>\n",
    "<li>Optimizer, gradient descent: \n",
    "<ul>\n",
    "  <li>Learning rate, step size along traversal direction in parameter space, 1.0 .</li>\n",
    "  <li>Number of iterations, maximal number of iterations, 60.</li>\n",
    "</ul>\n",
    "</li>\n",
    "</ul>\n",
    "\n",
    "\n",
    "\n",
    "### Version 1 - Classic\n",
    "\n",
    "Use the v4 registration framework in the ITK v3 manner. "
   ]
  },
  {
   "cell_type": "code",
   "execution_count": null,
   "metadata": {
    "collapsed": false
   },
   "outputs": [],
   "source": [
    "registration_method = sitk.ImageRegistrationMethod()\n",
    "\n",
    "registration_method.SetMetricAsMattesMutualInformation(numberOfHistogramBins=50)\n",
    "registration_method.SetMetricSamplingStrategy(registration_method.RANDOM)\n",
    "registration_method.SetMetricSamplingPercentage(0.01)\n",
    "\n",
    "registration_method.SetInterpolator(sitk.sitkLinear)\n",
    "\n",
    "registration_method.SetOptimizerAsGradientDescent(learningRate=1.0, numberOfIterations=60)\n",
    "registration_method.SetOptimizerScalesFromPhysicalShift() \n",
    "\n",
    "registration_method.SetInitialTransform(initial_transform, inPlace=False)\n",
    "\n",
    "registration_method.AddCommand(sitk.sitkStartEvent, metric_start_plot)\n",
    "registration_method.AddCommand(sitk.sitkEndEvent, metric_end_plot)\n",
    "registration_method.AddCommand(sitk.sitkIterationEvent, \n",
    "                               lambda: metric_plot_values(registration_method))\n",
    "\n",
    "final_transform_v1 = registration_method.Execute(fixed_image, moving_image)\n",
    "\n",
    "print(final_transform_v1)"
   ]
  },
  {
   "cell_type": "code",
   "execution_count": null,
   "metadata": {
    "collapsed": false
   },
   "outputs": [],
   "source": [
    "display_registration_results(fixed_image, moving_image, final_transform_v1)\n",
    "print('Final metric value: {0}'.format(registration_method.GetMetricValue()))\n",
    "print('Optimizer\\'s stopping condition, {0}'.format(registration_method.GetOptimizerStopConditionDescription()))"
   ]
  },
  {
   "cell_type": "markdown",
   "metadata": {},
   "source": [
    "### Version 1.1 the v4 approach\n",
    "\n",
    "The previous example illustrated the use of the ITK v4 registration framework in an ITK v3 manner. We only referred to a single transformation which was what we optimized.\n",
    "\n",
    "In ITK v4 the registration method accepts three transformations (if you look at the diagram above you will only see two transformations, Moving transform represents $T_{opt} \\circ T_m$):\n",
    "<ul>\n",
    "<li>\n",
    "SetInitialTransform, $T_{opt}$ - composed with the moving initial transform, maps points from the virtual image domain to the moving image domain, modified during optimization. \n",
    "</li>\n",
    "<li>\n",
    "SetFixedInitialTransform $T_f$- maps points from the virtual image domain to the fixed image domain, never modified.\n",
    "</li>\n",
    "<li>\n",
    "SetMovingInitialTransform $T_m$- maps points from the virtual image domain to the moving image domain, never modified.\n",
    "</li>\n",
    "</ul>\n",
    "\n",
    "The transformation that maps points from the fixed to moving image domains is thus: $^M\\mathbf{p}  = T_{opt}(T_m(T_f^{-1}(^F\\mathbf{p})))$\n",
    "\n",
    "We now modify the previous example to use $T_{opt}$ and $T_m$."
   ]
  },
  {
   "cell_type": "code",
   "execution_count": null,
   "metadata": {
    "collapsed": false
   },
   "outputs": [],
   "source": [
    "registration_method = sitk.ImageRegistrationMethod()\n",
    "registration_method.SetMetricAsMattesMutualInformation(numberOfHistogramBins=50)\n",
    "registration_method.SetMetricSamplingStrategy(registration_method.RANDOM)\n",
    "registration_method.SetMetricSamplingPercentage(0.01)\n",
    "registration_method.SetInterpolator(sitk.sitkLinear)\n",
    "registration_method.SetOptimizerAsGradientDescent(learningRate=1.0, numberOfIterations=60)\n",
    "registration_method.SetOptimizerScalesFromPhysicalShift()\n",
    "\n",
    "# Set the initial moving and optimized transforms.\n",
    "optimized_transform = sitk.Euler3DTransform()    \n",
    "registration_method.SetMovingInitialTransform(initial_transform)\n",
    "registration_method.SetInitialTransform(optimized_transform)\n",
    "\n",
    "registration_method.AddCommand(sitk.sitkStartEvent, metric_start_plot)\n",
    "registration_method.AddCommand(sitk.sitkEndEvent, metric_end_plot)\n",
    "registration_method.AddCommand(sitk.sitkIterationEvent, \n",
    "                               lambda: metric_plot_values(registration_method))\n",
    "\n",
    "registration_method.Execute(sitk.Cast(fixed_image, sitk.sitkFloat32), \n",
    "                            sitk.Cast(moving_image, sitk.sitkFloat32))\n",
    "\n",
    "# Need to compose the transformations after registration.\n",
    "final_transform_v11 = sitk.Transform(optimized_transform)\n",
    "final_transform_v11.AddTransform(initial_transform)\n",
    "\n",
    "print(final_transform_v11)"
   ]
  },
  {
   "cell_type": "code",
   "execution_count": null,
   "metadata": {
    "collapsed": false
   },
   "outputs": [],
   "source": [
    "display_registration_results(fixed_image, moving_image, final_transform_v11)\n",
    "print('Final metric value: {0}'.format(registration_method.GetMetricValue()))\n",
    "print('Optimizer\\'s stopping condition, {0}'.format(registration_method.GetOptimizerStopConditionDescription()))"
   ]
  },
  {
   "cell_type": "markdown",
   "metadata": {},
   "source": [
    "## Saving your results\n",
    "\n",
    "In the end, if we are satisfied with the results we would like to save them. This is all but trivial:"
   ]
  },
  {
   "cell_type": "code",
   "execution_count": null,
   "metadata": {
    "collapsed": false
   },
   "outputs": [],
   "source": [
    "# Resample the moving image onto the fixed image's grid.\n",
    "moving_resampled = sitk.Resample(moving_image, fixed_image, final_transform_v11, sitk.sitkLinear, \n",
    "                                 0.0, moving_image.GetPixelIDValue())    \n",
    "sitk.WriteImage(moving_resampled, os.path.join(OUTPUT_DIR, 'moving_transformed.mha'))\n",
    "sitk.WriteTransform(final_transform_v11, os.path.join(OUTPUT_DIR, 'final_transform_v1.1.tfm'))"
   ]
  },
  {
   "cell_type": "markdown",
   "metadata": {},
   "source": [
    "## Going multi-resolution and using reference data\n",
    "\n",
    "ITKv4 introduced an easy to use multi-resolution framework which we will explore in the following example. We  \n",
    "also incorporate the usage of reference data to evaluate the quality of registration. \n",
    "\n",
    "What does the usage of reference data have to do with SimpleITK registration?\n",
    "Short answer - Nothing.\n",
    "Long answer - registration in general is dependent on many parameter settings. You will want to optimize these settings for your particular task. This requires that you evaluate results using reference data. Often this reference data comes in the form of corresponding points in the two images, and our quantitative evaluation of registration corresponds to the Target Registration Error (TRE). \n",
    "\n",
    "In this notebook we are using the data from the Retrospective Image Registration Evaluation (<a href=\\\"http://www.insight-journal.org/rire/\\\">RIRE</a>) project."
   ]
  },
  {
   "cell_type": "markdown",
   "metadata": {},
   "source": [
    "### Load our reference data"
   ]
  },
  {
   "cell_type": "code",
   "execution_count": null,
   "metadata": {
    "collapsed": false
   },
   "outputs": [],
   "source": [
    "fixed_fiducial_points, moving_fiducial_points = load_RIRE_ground_truth(fdata(\"RIRE/ct_T1.standard\"))\n",
    "\n",
    "# Estimate the reference_transform defined by the RIRE fiducials  \n",
    "R, t = absolute_orientation_m(fixed_fiducial_points, moving_fiducial_points)\n",
    "reference_transform = sitk.Euler3DTransform()\n",
    "reference_transform.SetMatrix(R.flatten())\n",
    "reference_transform.SetTranslation(t)\n",
    "\n",
    "# Generate a reference dataset from the reference transformation \n",
    "# (corresponding points in the fixed and moving images).\n",
    "fixed_points = generate_random_pointset(image=fixed_image, num_points=100)\n",
    "moving_points = [reference_transform.TransformPoint(p) for p in fixed_points]    \n",
    "\n",
    "# Compute the TRE prior to registration.\n",
    "pre_errors_mean, pre_errors_std, _, pre_errors_max, pre_errors = registration_errors(sitk.Euler3DTransform(), fixed_points, moving_points)\n",
    "print('Before registration, errors (TRE) in millimeters, mean(std): {:.2f}({:.2f}), max: {:.2f}'.format(pre_errors_mean, pre_errors_std, pre_errors_max))"
   ]
  },
  {
   "cell_type": "markdown",
   "metadata": {},
   "source": [
    "### Evaluate the registration after initial alignment"
   ]
  },
  {
   "cell_type": "code",
   "execution_count": null,
   "metadata": {
    "collapsed": false
   },
   "outputs": [],
   "source": [
    "# The initial transform was estimated at the begining of this notebook.\n",
    "initial_errors_mean, initial_errors_std, _, initial_errors_max, initial_errors = registration_errors(initial_transform, fixed_points, moving_points, display_errors=True)\n",
    "print('After initial alignment, errors (TRE) in millimeters, mean(std): {:.2f}({:.2f}), max: {:.2f}'.format(initial_errors_mean, initial_errors_std, initial_errors_max))"
   ]
  },
  {
   "cell_type": "markdown",
   "metadata": {},
   "source": [
    "### Version 2 - v4 multi-resolution approach "
   ]
  },
  {
   "cell_type": "code",
   "execution_count": null,
   "metadata": {
    "collapsed": false
   },
   "outputs": [],
   "source": [
    "registration_method = sitk.ImageRegistrationMethod()\n",
    "\n",
    "registration_method.SetMetricAsMattesMutualInformation(numberOfHistogramBins=50)\n",
    "registration_method.SetMetricSamplingStrategy(registration_method.RANDOM)\n",
    "registration_method.SetMetricSamplingPercentage(0.01)\n",
    "registration_method.SetInterpolator(sitk.sitkLinear)\n",
    "registration_method.SetOptimizerAsGradientDescent(learningRate=1.0, numberOfIterations=60) \n",
    "registration_method.SetOptimizerScalesFromPhysicalShift() \n",
    "\n",
    "# Make a copy of the initial transformation so that we optimize in place but can still reuse it. This is\n",
    "# specific to our notebook's workflow. In a regular regisration setting we would not create this copy. Also declare\n",
    "# the variable as global so that it is accessible outside this cell even when using timeit.\n",
    "global final_transform_multi_res\n",
    "final_transform_multi_res = sitk.Euler3DTransform(initial_transform)\n",
    "registration_method.SetInitialTransform(final_transform_multi_res)\n",
    "registration_method.SmoothingSigmasAreSpecifiedInPhysicalUnitsOn()\n",
    "\n",
    "# Multi-resolution framework - it's this easy:\n",
    "registration_method.SetShrinkFactorsPerLevel(shrinkFactors = [4,2,1])\n",
    "registration_method.SetSmoothingSigmasPerLevel(smoothingSigmas = [2,1,0])\n",
    "\n",
    "registration_method.AddCommand(sitk.sitkStartEvent, metric_and_reference_start_plot)\n",
    "registration_method.AddCommand(sitk.sitkEndEvent, metric_and_reference_end_plot)\n",
    "registration_method.AddCommand(sitk.sitkIterationEvent, \n",
    "                               lambda: metric_and_reference_plot_values(registration_method, fixed_points, moving_points))\n",
    "# Additional callback specific to the multi-resolution framework\n",
    "registration_method.AddCommand(sitk.sitkMultiResolutionIterationEvent, \n",
    "                               metric_update_multires_iterations) \n",
    "\n",
    "registration_method.Execute(sitk.Cast(fixed_image, sitk.sitkFloat32), \n",
    "                            sitk.Cast(moving_image, sitk.sitkFloat32))\n",
    "print('Final metric value: {0}'.format(registration_method.GetMetricValue()))\n",
    "print('Optimizer\\'s stopping condition, {0}\\n'.format(registration_method.GetOptimizerStopConditionDescription()))\n",
    "print(final_transform_multi_res)"
   ]
  },
  {
   "cell_type": "markdown",
   "metadata": {},
   "source": [
    "### Evaluate the registration after final alignment\n",
    "\n",
    "Qualitative evaluation via visual inspection and quantitative evaluation via TRE. "
   ]
  },
  {
   "cell_type": "code",
   "execution_count": null,
   "metadata": {
    "collapsed": false
   },
   "outputs": [],
   "source": [
    "display_registration_results(fixed_image, moving_image, final_transform_multi_res)"
   ]
  },
  {
   "cell_type": "code",
   "execution_count": null,
   "metadata": {
    "collapsed": false
   },
   "outputs": [],
   "source": [
    "final_errors_mean, final_errors_std, _, final_errors_max, final_errors = registration_errors(final_transform_multi_res, fixed_points, moving_points, display_errors=True)\n",
    "print('After final alignment, errors (TRE) in millimeters, mean(std): {:.2f}({:.2f}), max: {:.2f}'.format(final_errors_mean, final_errors_std, final_errors_max))"
   ]
  },
  {
   "cell_type": "markdown",
   "metadata": {
    "collapsed": true
   },
   "source": [
    "## Exercises"
   ]
  },
  {
   "cell_type": "markdown",
   "metadata": {},
   "source": [
    "In this section you will explore the effects of various settings on the registration framework:\n",
    "<ol>\n",
    "<li>\n",
    "Modify the initial alignment estimation to use sitk.CenteredTransformInitializerFilter.MOMENTS - does this have an effect on our registration?\n",
    "</li>\n",
    "<li>\n",
    "Modify version 1 above so that the transformation is modified in place (SetInitialTransform) - does this have any effect on the result (hint: transformation type)\n",
    "</li>\n",
    "<li>\n",
    "Modify version 1 or 1.1, exploring the effects of various component settings on the results:\n",
    "<ol>\n",
    "<li>\n",
    "  Scale estimation: Comment out the SetOptimizerScalesFromPhysicalShift method, try the SetOptimizerScalesFromIndexShift,SetOptimizerScalesFromJacobian and SetOptimizerScales methods. \n",
    "<y t/li>\n",
    "<li>\n",
    "Modify the number of iterations - we already know the optimizer is likely terminating earlier than it should.\n",
    "</li>\n",
    "<li>\n",
    "Modify the sampling strategy (SetMetricSamplingStrategy) - try no/regular sampling (registration_method.NONE, REGULAR).\n",
    "</li>\n",
    "</ol>\n",
    "</li>\n",
    "<li>\n",
    "Modify version 2, exploring the effects of changing the smoothingSigmas and shrinkFactors on accuracy. You can also modify the units of the smoothingSigmas from the default physical ones to voxel units (SmoothingSigmasAreSpecifiedInPhysicalUnitsOff).\n",
    "</li>\n",
    "<li>\n",
    "Compare the runtime of the single resolution registration, version 1, to that of the multi-resolution registration, version 2. Add the following line at the begining of the registration cells:<br>%%timeit -r1 -n1<br>\n",
    "This will wrap the cell as a function and run it once, reporting the runtime. \n",
    "</li>\n",
    "<li>\n",
    "In registration version 2 the number of samples per resolution was set at 1%, SetMetricSamplingPercentage(0.01), this ignores the fact that there are far fewer voxels at the higher resolutions. Use the method SetMetricSamplingPercentagePerLevel with a list of percentages corresponding to the number of resolutions.  \n",
    "</li>\n",
    "</ol>"
   ]
  },
  {
   "cell_type": "code",
   "execution_count": null,
   "metadata": {
    "collapsed": true
   },
   "outputs": [],
   "source": []
  }
 ],
 "metadata": {
  "kernelspec": {
   "display_name": "Python 3",
   "language": "python",
   "name": "python3"
  },
  "language_info": {
   "codemirror_mode": {
    "name": "ipython",
    "version": 3
   },
   "file_extension": ".py",
   "mimetype": "text/x-python",
   "name": "python",
   "nbconvert_exporter": "python",
   "pygments_lexer": "ipython3",
   "version": "3.4.2"
  }
 },
 "nbformat": 4,
 "nbformat_minor": 0
}
